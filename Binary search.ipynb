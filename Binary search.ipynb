{
 "cells": [
  {
   "cell_type": "code",
   "execution_count": 27,
   "metadata": {},
   "outputs": [],
   "source": [
    "def bs(input_list,left,right,q):\n",
    "    if right>=left:\n",
    "        mid=left+(right-left)//2\n",
    "        if input_list[mid] == q:\n",
    "            return mid\n",
    "        elif input_list[mid] > q:\n",
    "            return bs(input_list,left,mid-1,q)\n",
    "        else:\n",
    "            return bs(input_list,mid+1,right,q)\n",
    "    else:\n",
    "        return -1"
   ]
  },
  {
   "cell_type": "code",
   "execution_count": 29,
   "metadata": {},
   "outputs": [
    {
     "name": "stdout",
     "output_type": "stream",
     "text": [
      "Element is not present in list\n"
     ]
    }
   ],
   "source": [
    "input_list=[2, 3, 4, 10, 40 ,45 , 50 ,55 , 60 ,63 ,70]\n",
    "q=\n",
    "result=bs(input_list,0,(len(input_list))-1,q)\n",
    "if result != -1:   \n",
    "    print (\"Element is present at index % d\" % result) \n",
    "else: \n",
    "    print (\"Element is not present in list\") "
   ]
  },
  {
   "cell_type": "code",
   "execution_count": null,
   "metadata": {},
   "outputs": [],
   "source": []
  }
 ],
 "metadata": {},
 "nbformat": 4,
 "nbformat_minor": 4
}
